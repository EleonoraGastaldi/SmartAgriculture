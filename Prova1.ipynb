{
 "cells": [
  {
   "cell_type": "code",
   "execution_count": null,
   "id": "a66e2751",
   "metadata": {},
   "outputs": [],
   "source": [
    "import sys\n",
    "\n",
    "import boto3\n",
    "import matplotlib.pyplot as plt\n",
    "import pandas as pd\n",
    "import plotly.express as px\n",
    "from matplotlib.dates import DateFormatter\n",
    "from pandas.plotting import register_matplotlib_converters"
   ]
  },
  {
   "cell_type": "code",
   "execution_count": 6,
   "id": "2ed7ae8e",
   "metadata": {},
   "outputs": [],
   "source": [
    "# constants\n",
    "MY_TIMEZONE='UTC' # update to your local timezone or use 'UTC'\n",
    "DATETIME_FORMAT='%y-%m-%d %H:%M' # update to your local date/time format"
   ]
  },
  {
   "cell_type": "code",
   "execution_count": 7,
   "id": "1a51997f",
   "metadata": {},
   "outputs": [],
   "source": [
    "def parse(x):\n",
    "    x = pd.to_datetime(x, infer_datetime_format=True, unit='s', utc=True)\n",
    "    x = x.tz_convert(MY_TIMEZONE)\n",
    "    return x"
   ]
  },
  {
   "cell_type": "code",
   "execution_count": 11,
   "id": "9718b57d",
   "metadata": {},
   "outputs": [
    {
     "name": "stdout",
     "output_type": "stream",
     "text": [
      "CPU times: user 31.5 ms, sys: 3.92 ms, total: 35.4 ms\n",
      "Wall time: 259 ms\n"
     ]
    }
   ],
   "source": [
    "%%time\n",
    "\n",
    "client = boto3.client('iotanalytics')\n",
    "nrows_read = None # specify 'None' if want to read whole data set (10k records)\n",
    "dataset = 'iot_vodafone_dataset'\n",
    "data_location = client.get_dataset_content(datasetName=dataset)['entries'][0]['dataURI']\n",
    "\n",
    "#date_parser=parse,\n",
    "\n",
    "df = pd.read_csv(data_location,\n",
    "                 nrows=nrows_read,\n",
    "                 header=0,\n",
    "                 low_memory=False,\n",
    "                 infer_datetime_format=True,\n",
    "                 date_parser=parse)"
   ]
  },
  {
   "cell_type": "code",
   "execution_count": 14,
   "id": "bef58968",
   "metadata": {},
   "outputs": [
    {
     "data": {
      "text/plain": [
       "Index(['id', 'id_wasp', 'id_secret', 'sensor', 'value', 'datetime'], dtype='object')"
      ]
     },
     "execution_count": 14,
     "metadata": {},
     "output_type": "execute_result"
    }
   ],
   "source": [
    "# clean up the DataFrame\n",
    "#df = df.drop(columns='__dt')\n",
    "df.columns\n",
    "#df = df.sort_values(by='ts', ascending=True)"
   ]
  },
  {
   "cell_type": "code",
   "execution_count": null,
   "id": "cf097636",
   "metadata": {},
   "outputs": [],
   "source": [
    "# transform metadata attribute, from device registry, to valid json object\n",
    "#df['metadata'].replace('{','{\"',regex=True, inplace = True)\n",
    "#df['metadata'].replace('=','\":\"',regex=True, inplace = True)\n",
    "#df['metadata'].replace(', ','\",\"',regex=True, inplace = True)\n",
    "#df['metadata'].replace(':\"{\"',':{\"',regex=True, inplace = True)\n",
    "#df['metadata'].replace('}\",','},',regex=True, inplace = True)\n",
    "#df['metadata'].replace('}','\"}',regex=True, inplace = True)"
   ]
  },
  {
   "cell_type": "code",
   "execution_count": 18,
   "id": "96554a85",
   "metadata": {},
   "outputs": [
    {
     "data": {
      "text/html": [
       "<div>\n",
       "<style scoped>\n",
       "    .dataframe tbody tr th:only-of-type {\n",
       "        vertical-align: middle;\n",
       "    }\n",
       "\n",
       "    .dataframe tbody tr th {\n",
       "        vertical-align: top;\n",
       "    }\n",
       "\n",
       "    .dataframe thead th {\n",
       "        text-align: right;\n",
       "    }\n",
       "</style>\n",
       "<table border=\"1\" class=\"dataframe\">\n",
       "  <thead>\n",
       "    <tr style=\"text-align: right;\">\n",
       "      <th></th>\n",
       "      <th>id</th>\n",
       "      <th>id_wasp</th>\n",
       "      <th>id_secret</th>\n",
       "      <th>sensor</th>\n",
       "      <th>value</th>\n",
       "      <th>datetime</th>\n",
       "    </tr>\n",
       "  </thead>\n",
       "  <tbody>\n",
       "    <tr>\n",
       "      <th>995</th>\n",
       "      <td>1021359</td>\n",
       "      <td>STATION_01</td>\n",
       "      <td>22626F057C1054B4</td>\n",
       "      <td>PLV3</td>\n",
       "      <td>0.00</td>\n",
       "      <td>2021-07-28 05:50:27</td>\n",
       "    </tr>\n",
       "    <tr>\n",
       "      <th>996</th>\n",
       "      <td>1021355</td>\n",
       "      <td>STATION_01</td>\n",
       "      <td>22626F057C1054B4</td>\n",
       "      <td>SOIL3</td>\n",
       "      <td>4098.36</td>\n",
       "      <td>2021-07-28 05:50:17</td>\n",
       "    </tr>\n",
       "    <tr>\n",
       "      <th>997</th>\n",
       "      <td>1021356</td>\n",
       "      <td>STATION_01</td>\n",
       "      <td>22626F057C1054B4</td>\n",
       "      <td>BAT</td>\n",
       "      <td>95.00</td>\n",
       "      <td>2021-07-28 05:50:17</td>\n",
       "    </tr>\n",
       "    <tr>\n",
       "      <th>998</th>\n",
       "      <td>1021354</td>\n",
       "      <td>STATION_01</td>\n",
       "      <td>22626F057C1054B4</td>\n",
       "      <td>SOIL2</td>\n",
       "      <td>4132.23</td>\n",
       "      <td>2021-07-28 05:50:17</td>\n",
       "    </tr>\n",
       "    <tr>\n",
       "      <th>999</th>\n",
       "      <td>1021353</td>\n",
       "      <td>STATION_01</td>\n",
       "      <td>22626F057C1054B4</td>\n",
       "      <td>SOIL1</td>\n",
       "      <td>4761.90</td>\n",
       "      <td>2021-07-28 05:50:17</td>\n",
       "    </tr>\n",
       "  </tbody>\n",
       "</table>\n",
       "</div>"
      ],
      "text/plain": [
       "          id     id_wasp         id_secret sensor    value  \\\n",
       "995  1021359  STATION_01  22626F057C1054B4   PLV3     0.00   \n",
       "996  1021355  STATION_01  22626F057C1054B4  SOIL3  4098.36   \n",
       "997  1021356  STATION_01  22626F057C1054B4    BAT    95.00   \n",
       "998  1021354  STATION_01  22626F057C1054B4  SOIL2  4132.23   \n",
       "999  1021353  STATION_01  22626F057C1054B4  SOIL1  4761.90   \n",
       "\n",
       "                datetime  \n",
       "995  2021-07-28 05:50:27  \n",
       "996  2021-07-28 05:50:17  \n",
       "997  2021-07-28 05:50:17  \n",
       "998  2021-07-28 05:50:17  \n",
       "999  2021-07-28 05:50:17  "
      ]
     },
     "execution_count": 18,
     "metadata": {},
     "output_type": "execute_result"
    }
   ],
   "source": [
    "df.tail()"
   ]
  },
  {
   "cell_type": "code",
   "execution_count": null,
   "id": "2ba3a796",
   "metadata": {},
   "outputs": [],
   "source": [
    "\n",
    "# filter temp/humidity outliers (>1% & <99%)\n",
    "df = df.loc[df['temp'] > df.groupby('device').temp.transform(lambda x: x.quantile(.01))]\n",
    "df = df.loc[df['temp'] < df.groupby('device').temp.transform(lambda x: x.quantile(.99))]\n",
    "\n",
    "df = df.loc[df['humidity'] > df.groupby('device').humidity.transform(lambda x: x.quantile(.01))]\n",
    "df = df.loc[df['humidity'] < df.groupby('device').humidity.transform(lambda x: x.quantile(.99))]"
   ]
  },
  {
   "cell_type": "code",
   "execution_count": null,
   "id": "70c7f2f6",
   "metadata": {},
   "outputs": [],
   "source": [
    "# group by device\n",
    "groups = df.groupby('device')"
   ]
  },
  {
   "cell_type": "code",
   "execution_count": null,
   "id": "735e1170",
   "metadata": {},
   "outputs": [],
   "source": [
    "print('DataFrame Stats')\n",
    "print('-------------')\n",
    "print('Record count: {:,}'.format(df['temp'].count()))\n",
    "print('DataFrame size (MB): {:,.2f}'.format(sys.getsizeof(df)/1024/1024))\n",
    "print('-------------')\n",
    "print('Time range (min): {:%Y-%m-%d %H:%M:%S %Z}'.format(df.index[1]))\n",
    "print('Time range (max): {:%Y-%m-%d %H:%M:%S %Z}'.format(df.index[-1]))\n",
    "print('Temperature (min): {:.2f}'.format(df['temp'].min()))\n",
    "print('Temperature (max): {:.2f}'.format(df['temp'].max()))\n",
    "print('Humidity (min): {:.2f}{}'.format(df['humidity'].min(), '%'))\n",
    "print('Humidity (max): {:.2f}{}'.format(df['humidity'].max(), '%'))\n",
    "print('-------------')\n",
    "print('Record count:\\n{}'.format(groups.size()))\n",
    "# print('Temperature (min):\\n{}'.format(groups['temp'].min()))\n",
    "# print('Temperature (max):\\n{}'.format(groups['temp'].max()))\n",
    "# print('Humidity (min)\\n{}'.format(groups['humidity'].min()))\n",
    "# print('Humidity (max):\\n{}'.format(groups['humidity'].max()))"
   ]
  },
  {
   "cell_type": "code",
   "execution_count": null,
   "id": "2bac2f00",
   "metadata": {},
   "outputs": [],
   "source": [
    "# example of extracting value from metadata attribute\n",
    "metadata = pd.read_json(df['metadata'][0], orient='records', typ='series')\n",
    "print(metadata['thingname'])"
   ]
  },
  {
   "cell_type": "code",
   "execution_count": null,
   "id": "4a6fff30",
   "metadata": {},
   "outputs": [],
   "source": [
    "# matplotlib datetime config\n",
    "plt.rcParams['timezone']=MY_TIMEZONE\n",
    "register_matplotlib_converters()\n",
    "myFmt = DateFormatter(DATETIME_FORMAT)"
   ]
  },
  {
   "cell_type": "code",
   "execution_count": null,
   "id": "316f4df0",
   "metadata": {},
   "outputs": [],
   "source": [
    "_, ax = plt.subplots(1, 1, figsize=(18, 9))\n",
    "for device, group in groups:\n",
    "    ax.plot(group.temp,\n",
    "            group.humidity,\n",
    "            marker='o',\n",
    "            linestyle='',\n",
    "            alpha=.5,\n",
    "            ms=10,\n",
    "            label=device)\n",
    "ax.grid()\n",
    "ax.margins(0.05)\n",
    "ax.legend()\n",
    "plt.title('Temperature vs. Humidity')\n",
    "plt.xlabel('Temperature (˚F)')\n",
    "plt.ylabel('Humidity (%)')\n",
    "plt.show()"
   ]
  },
  {
   "cell_type": "code",
   "execution_count": null,
   "id": "5b36f6a5",
   "metadata": {},
   "outputs": [],
   "source": [
    "fig, ax = plt.subplots(1, 1, figsize=(18, 9))\n",
    "for device, group in groups:\n",
    "    group.mean = group.temp.rolling(window=20).mean()\n",
    "    ax.plot(group.mean,\n",
    "            label=device)\n",
    "fig.autofmt_xdate()\n",
    "ax.xaxis.set_major_formatter(myFmt)\n",
    "ax.grid()\n",
    "ax.margins(0.05)\n",
    "ax.legend()\n",
    "plt.title('Temperature Comparison over Time')\n",
    "plt.ylabel('Temperature (˚F)')\n",
    "plt.xlabel('Time')\n",
    "plt.show()"
   ]
  },
  {
   "cell_type": "code",
   "execution_count": null,
   "id": "603df898",
   "metadata": {},
   "outputs": [],
   "source": [
    "\n",
    "fig, ax = plt.subplots(1, 1, figsize=(18, 9))\n",
    "for device, group in groups:\n",
    "    group.mean = group.humidity.rolling(window=20).mean()\n",
    "    ax.plot(group.mean,\n",
    "            label=device)\n",
    "fig.autofmt_xdate()\n",
    "ax.xaxis.set_major_formatter(myFmt)\n",
    "ax.grid()\n",
    "ax.margins(0.05)\n",
    "ax.legend()\n",
    "plt.title('Humidity Comparison over Time')\n",
    "plt.ylabel('Humidity (%)')\n",
    "plt.xlabel('Time')\n",
    "plt.show()"
   ]
  },
  {
   "cell_type": "code",
   "execution_count": null,
   "id": "1183d696",
   "metadata": {},
   "outputs": [],
   "source": []
  }
 ],
 "metadata": {
  "kernelspec": {
   "display_name": "conda_python3",
   "language": "python",
   "name": "conda_python3"
  },
  "language_info": {
   "codemirror_mode": {
    "name": "ipython",
    "version": 3
   },
   "file_extension": ".py",
   "mimetype": "text/x-python",
   "name": "python",
   "nbconvert_exporter": "python",
   "pygments_lexer": "ipython3",
   "version": "3.6.13"
  }
 },
 "nbformat": 4,
 "nbformat_minor": 5
}
